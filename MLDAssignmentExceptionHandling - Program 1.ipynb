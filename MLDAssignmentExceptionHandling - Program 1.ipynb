{
 "cells": [
  {
   "cell_type": "code",
   "execution_count": 8,
   "metadata": {},
   "outputs": [
    {
     "name": "stdout",
     "output_type": "stream",
     "text": [
      "Error: Invalid arithmatic operation\n",
      "Error or Not, I executed\n"
     ]
    }
   ],
   "source": [
    "# Write a function to compute 5/0 and use try/except to catch the exceptions.\n",
    "\n",
    "def compute():\n",
    "    \n",
    "    try:\n",
    "        compute = 5/0\n",
    "        print(compute)\n",
    "    except:\n",
    "        print(\"Error: Invalid arithmatic operation\")\n",
    "    finally:\n",
    "        print(\"Error or Not, I executed\")\n",
    "\n",
    "compute()"
   ]
  },
  {
   "cell_type": "code",
   "execution_count": null,
   "metadata": {},
   "outputs": [],
   "source": []
  }
 ],
 "metadata": {
  "kernelspec": {
   "display_name": "Python 3",
   "language": "python",
   "name": "python3"
  },
  "language_info": {
   "codemirror_mode": {
    "name": "ipython",
    "version": 3
   },
   "file_extension": ".py",
   "mimetype": "text/x-python",
   "name": "python",
   "nbconvert_exporter": "python",
   "pygments_lexer": "ipython3",
   "version": "3.7.6"
  }
 },
 "nbformat": 4,
 "nbformat_minor": 4
}
